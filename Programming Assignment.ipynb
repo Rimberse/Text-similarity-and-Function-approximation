{
 "cells": [
  {
   "cell_type": "markdown",
   "metadata": {},
   "source": [
    "# Programming Assignment: Text similarity and Function approximation"
   ]
  },
  {
   "cell_type": "markdown",
   "metadata": {},
   "source": [
    "## Instructions"
   ]
  },
  {
   "cell_type": "markdown",
   "metadata": {},
   "source": [
    "The following task consists of two parts. An answer to each of them will contain a set of numbers, which you will need to enter into the corresponding field, using the space as a separator."
   ]
  },
  {
   "cell_type": "markdown",
   "metadata": {},
   "source": [
    "**Exercise 1: Sentence comparison**"
   ]
  },
  {
   "cell_type": "markdown",
   "metadata": {},
   "source": [
    "There is a set of sentences, which were copied from Wikipedia. Each of them contains a \"cat theme\" in it, which meaning can correspond to:"
   ]
  },
  {
   "cell_type": "markdown",
   "metadata": {},
   "source": [
    "* cats (animals)\n",
    "* UNIX utility cat to output the contents of files\n",
    "* OS X operating system versions named after the Felidae"
   ]
  },
  {
   "cell_type": "markdown",
   "metadata": {},
   "source": [
    "Your task is to find the two sentences that are closest in meaning to the first line. We will use cosine distance as a measure of closeness in meaning."
   ]
  },
  {
   "cell_type": "markdown",
   "metadata": {},
   "source": [
    "Follow these steps:"
   ]
  },
  {
   "cell_type": "markdown",
   "metadata": {},
   "source": [
    "1.  Download a file with sentences `(sentences.txt)`.\n",
    "2.  Each line in the file corresponds to one sentence. Read them from a file, cast each one to lower case using the string function `lower()`.\n",
    "3.  Perform a tokenization, that is, divide the sentences into words. To do this, you can use a regular expression that considers any character that is not a letter as a separator: `re.split('[^a-z]', t)`. Don't forget to remove the empty words after the split.\n",
    "4.  Make a list of all words found in sentences. Match each word with an index from zero to `(d - 1)`, where `d` is the `index` of different words in sentences. For this purpose, it is convenient to use the structure `dict`.\n",
    "5.  Create a matrix of size `n * d`, where `n` is the number of sentences. Fill it out: the element with the index `(i, j)` in this matrix should be equal to the index of the `j-th` word in the `i-th` sentence. You should get a matrix of size `22 * 254`.\n",
    "6.  Find the cosine distance from the sentence in the very first line `(In comparison to dogs, cats have no undergone...)` to all others using the function `scipy.spatial.distance.cosine`. What are the numbers of the two sentences closest to it by this distance (the lines are numbered from zero)? These two numbers are the answers to this task. The sentence itself (In comparison to dogs, cats have no undergone... ) has the index 0.\n",
    "7.  Write the resulting numbers into the file by separating them with a space. Note that the file must consist of a single line at the end of which there should be no newline character. You can find an example of a solution file at the end of the task `(submission-1.txt)`.\n",
    "8.  Do the next two sentences match the first one? Do the following sentences match in meaning?"
   ]
  },
  {
   "cell_type": "markdown",
   "metadata": {},
   "source": [
    "Of course, the method you used is very simple. For example, it does not take into account the form of words (for example, cat and cats are considered as different words, although in essence they mean the same thing), does not remove from the text articles and other unnecessary words. Later, we will study text analysis in detail, where we will find out how to achieve high quality when searching for similar sentences."
   ]
  },
  {
   "cell_type": "code",
   "execution_count": 118,
   "metadata": {},
   "outputs": [],
   "source": [
    "import pandas as pd\n",
    "import numpy as np\n",
    "import scipy.spatial\n",
    "import re\n",
    "import operator"
   ]
  },
  {
   "cell_type": "code",
   "execution_count": 119,
   "metadata": {},
   "outputs": [],
   "source": [
    "with open('sentences.txt', 'r') as inputFile:\n",
    "    content = inputFile.readlines()"
   ]
  },
  {
   "cell_type": "code",
   "execution_count": 120,
   "metadata": {},
   "outputs": [],
   "source": [
    "sentences = map(lambda line: line.strip().lower(), content)\n",
    "n = len(sentences)"
   ]
  },
  {
   "cell_type": "code",
   "execution_count": 121,
   "metadata": {},
   "outputs": [],
   "source": [
    "wordTokens = [filter(lambda word: len(word) > 0, re.split('[^a-z]', sentence)) for sentence in sentences]"
   ]
  },
  {
   "cell_type": "code",
   "execution_count": 122,
   "metadata": {},
   "outputs": [],
   "source": [
    "wordIndex = {}\n",
    "\n",
    "currIndex = 0\n",
    "\n",
    "for tokens in wordTokens:\n",
    "    for token in tokens:\n",
    "        if token not in wordIndex:\n",
    "            wordIndex[token] = currIndex\n",
    "            currIndex += 1"
   ]
  },
  {
   "cell_type": "code",
   "execution_count": 123,
   "metadata": {},
   "outputs": [],
   "source": [
    "d = len(wordIndex)"
   ]
  },
  {
   "cell_type": "code",
   "execution_count": 124,
   "metadata": {},
   "outputs": [],
   "source": [
    "matrix = np.zeros((n, d))"
   ]
  },
  {
   "cell_type": "code",
   "execution_count": 125,
   "metadata": {},
   "outputs": [],
   "source": [
    "for i in range(n):\n",
    "    tokens = wordTokens[i]\n",
    "    for token in tokens:\n",
    "        matrix[i][wordIndex[token]] += 1"
   ]
  },
  {
   "cell_type": "code",
   "execution_count": 126,
   "metadata": {},
   "outputs": [],
   "source": [
    "distances = {}\n",
    "\n",
    "firstSentence = matrix[0, :]\n",
    "\n",
    "for i in range(len(matrix)):\n",
    "    distances[i] = scipy.spatial.distance.cosine(firstSentence, matrix[i, :])\n",
    "\n",
    "closestSentences = [sentence[0] for sentence in sorted(distances.items(), key = operator.itemgetter(1))[1:3]]"
   ]
  },
  {
   "cell_type": "code",
   "execution_count": 127,
   "metadata": {},
   "outputs": [],
   "source": [
    "with open('submission-1.txt', 'w') as outputFile:\n",
    "    outputFile.writelines(string + ' ' for string in map(str, closestSentences))"
   ]
  },
  {
   "cell_type": "code",
   "execution_count": 128,
   "metadata": {},
   "outputs": [
    {
     "data": {
      "text/html": [
       "<style type=\"text/css\">\n",
       "table.dataframe td, table.dataframe th {\n",
       "    border: 1px  black solid !important;\n",
       "    color: black !important;\n",
       "    text-align: left;\n",
       "}\n",
       "\n",
       "table.dataframe thead th {\n",
       "    text-align: center !important;\n",
       "}\n",
       "</style>"
      ],
      "text/plain": [
       "<IPython.core.display.HTML object>"
      ]
     },
     "metadata": {},
     "output_type": "display_data"
    }
   ],
   "source": [
    "%%HTML\n",
    "<style type=\"text/css\">\n",
    "table.dataframe td, table.dataframe th {\n",
    "    border: 1px  black solid !important;\n",
    "    color: black !important;\n",
    "    text-align: left;\n",
    "}\n",
    "\n",
    "table.dataframe thead th {\n",
    "    text-align: center !important;\n",
    "}\n",
    "</style>"
   ]
  },
  {
   "cell_type": "code",
   "execution_count": 129,
   "metadata": {},
   "outputs": [
    {
     "data": {
      "text/html": [
       "<div>\n",
       "<style scoped>\n",
       "    .dataframe tbody tr th:only-of-type {\n",
       "        vertical-align: middle;\n",
       "    }\n",
       "\n",
       "    .dataframe tbody tr th {\n",
       "        vertical-align: top;\n",
       "    }\n",
       "\n",
       "    .dataframe thead th {\n",
       "        text-align: right;\n",
       "    }\n",
       "</style>\n",
       "<table border=\"1\" class=\"dataframe\">\n",
       "  <thead>\n",
       "    <tr style=\"text-align: right;\">\n",
       "      <th></th>\n",
       "      <th>Distance</th>\n",
       "      <th>Sentence</th>\n",
       "    </tr>\n",
       "  </thead>\n",
       "  <tbody>\n",
       "    <tr>\n",
       "      <th>0</th>\n",
       "      <td>0.000000</td>\n",
       "      <td>in comparison to dogs, cats have not undergone...</td>\n",
       "    </tr>\n",
       "    <tr>\n",
       "      <th>6</th>\n",
       "      <td>0.732739</td>\n",
       "      <td>domestic cats are similar in size to the other...</td>\n",
       "    </tr>\n",
       "    <tr>\n",
       "      <th>4</th>\n",
       "      <td>0.777089</td>\n",
       "      <td>in one, people deliberately tamed cats in a pr...</td>\n",
       "    </tr>\n",
       "    <tr>\n",
       "      <th>21</th>\n",
       "      <td>0.825036</td>\n",
       "      <td>the fifth major update to mac os x, leopard, c...</td>\n",
       "    </tr>\n",
       "    <tr>\n",
       "      <th>10</th>\n",
       "      <td>0.832817</td>\n",
       "      <td>cat command is one of the basic commands that ...</td>\n",
       "    </tr>\n",
       "  </tbody>\n",
       "</table>\n",
       "</div>"
      ],
      "text/plain": [
       "    Distance                                           Sentence\n",
       "0   0.000000  in comparison to dogs, cats have not undergone...\n",
       "6   0.732739  domestic cats are similar in size to the other...\n",
       "4   0.777089  in one, people deliberately tamed cats in a pr...\n",
       "21  0.825036  the fifth major update to mac os x, leopard, c...\n",
       "10  0.832817  cat command is one of the basic commands that ..."
      ]
     },
     "execution_count": 129,
     "metadata": {},
     "output_type": "execute_result"
    }
   ],
   "source": [
    "distanceDF = pd.DataFrame.from_dict(distances, orient='index')\n",
    "distanceDF.columns = ['Distance']\n",
    "distanceDF['Sentence'] = [sentences[i] for i in distanceDF.index.values]\n",
    "distanceDF.sort_values('Distance')[:5]"
   ]
  },
  {
   "cell_type": "markdown",
   "metadata": {},
   "source": [
    "**Exercise 2: Function approximation**"
   ]
  },
  {
   "cell_type": "markdown",
   "metadata": {},
   "source": [
    "Let us consider a complex mathematical function on the segment `[1, 15]`:"
   ]
  },
  {
   "cell_type": "markdown",
   "metadata": {},
   "source": [
    "$$f(x) = \\sin{\\frac{x}{5}} * e^{\\frac{x}{10}} + 5 e^{\\frac{-x}{2}}$$"
   ]
  },
  {
   "cell_type": "code",
   "execution_count": 130,
   "metadata": {},
   "outputs": [],
   "source": [
    "%matplotlib inline\n",
    "import math\n",
    "from matplotlib import pyplot\n",
    "\n",
    "def f(x):\n",
    "    return math.sin(x / 5.) * math.exp(x / 10.) + 5 * math.exp(-x / 2.)"
   ]
  },
  {
   "cell_type": "code",
   "execution_count": 131,
   "metadata": {},
   "outputs": [],
   "source": [
    "x = np.arange(1, 16, 0.1)\n",
    "y = map(f, x)"
   ]
  },
  {
   "cell_type": "code",
   "execution_count": 141,
   "metadata": {},
   "outputs": [
    {
     "data": {
      "text/plain": [
       "[<matplotlib.lines.Line2D at 0xcb4e748>]"
      ]
     },
     "execution_count": 141,
     "metadata": {},
     "output_type": "execute_result"
    },
    {
     "data": {
      "image/png": "[encoded data removed]",
      "text/plain": [
       "<Figure size 432x288 with 1 Axes>"
      ]
     },
     "metadata": {
      "needs_background": "light"
     },
     "output_type": "display_data"
    }
   ],
   "source": [
    "pyplot.plot(x, y)"
   ]
  },
  {
   "cell_type": "markdown",
   "metadata": {},
   "source": [
    "It can describe, for example, the dependency of the ratings that experts give to a particular type of wine, depending on the age of that wine. In fact, the task of machine learning is to bring the complex dependence closer by using a function from a certain family. In this task, we will approximate the specified function with the help of polynomials."
   ]
  },
  {
   "cell_type": "markdown",
   "metadata": {},
   "source": [
    "As we know, the polynomial of degree n (that is, `w_0 + w_1 x + w_2 x^2 + ... + w_n x^n`) is unambiguously defined by any `n + 1` different points through which it passes. It means that its coefficients `w_0, ... w_n` can be determined from the following system of linear equations:"
   ]
  },
  {
   "cell_type": "markdown",
   "metadata": {},
   "source": [
    "\\begin{cases}\n",
    "w_0 + w_1 x_1 + w_2 x_1^2 + \\dots + w_n x_1^n = f(x_1)\\\\\n",
    "\\dots\\\\\n",
    "w_0 + w_1 x_{n+1} + w_2 x_{n+1}^2 + \\dots + w_n x_{n+1}^n = f(x_{n+1})\n",
    "\\end{cases}"
   ]
  },
  {
   "cell_type": "markdown",
   "metadata": {},
   "source": [
    "where `x_1, ..., x_n, x_{n+1}` mark the points through which the polynomial passes and `f(x_1), ..., f(x_n), f(x_{n+1})` mark the values it must take at these points."
   ]
  },
  {
   "cell_type": "markdown",
   "metadata": {},
   "source": [
    "Let us use the described property and find the approximation of the function with the polynomial, solving a system of linear equations:"
   ]
  },
  {
   "cell_type": "markdown",
   "metadata": {},
   "source": [
    "1.  Create a system of linear equations (i.e. set the matrix of coefficients A and the free vector b) for the polynomial of the first degree, which must coincide with the function f in points 1 and 15. Solve this system using the function `scipy.linalg.solve`. Draw function f and the resulting polynomial. Is it a good approximation of the original function?\n",
    "2. Repeat the same steps for the polynomial of the second degree, which coincides with the function f in points 1, 8 and 15. Has the quality of approximation improved?\n",
    "3. Repeat the same steps for the polynomial of the third degree, which coincides with the function f in points 1, 4, 10 and 15. Does it approximate the function well? The coefficients of this polynomial (four numbers in the following order: `w_0, w_1, w_2, w_3`) are the answers to this task. It is not necessary to round the coefficients, but you can round them up to the second digit if you want (i.e. to the number of the kind 0.42).\n",
    "4. Write down the resulting numbers in a file, separated by spaces. Note that the file should consist of one line, at the end of which there should be no newline. An example solution file can be found at the end of the task (submission-2.txt)."
   ]
  },
  {
   "cell_type": "code",
   "execution_count": 133,
   "metadata": {},
   "outputs": [],
   "source": [
    "def generateMatrix(points):\n",
    "    n = len(points)\n",
    "    matrix = []\n",
    "    for x in points:\n",
    "        row = []\n",
    "        for i in range(n):\n",
    "            row.append(x**i)\n",
    "        matrix.append(row)\n",
    "    return np.array(matrix)\n",
    "\n",
    "def generateApproxVal(w, points):\n",
    "    y = []\n",
    "    for x in points:\n",
    "        yCurr = 0\n",
    "        for i in range(len(w)):\n",
    "            yCurr += w[i]*(x**i)\n",
    "        y.append(yCurr)\n",
    "    return y"
   ]
  },
  {
   "cell_type": "code",
   "execution_count": 134,
   "metadata": {},
   "outputs": [],
   "source": [
    "x_2 = [1, 15]\n",
    "A_2 = generateMatrix(x_2)\n",
    "y_2 = np.array(map(f, x_2))\n",
    "w_2 = scipy.linalg.solve(A_2, y_2)\n",
    "y_approx_2 = generateApproxVal(w_2, x)"
   ]
  },
  {
   "cell_type": "code",
   "execution_count": 135,
   "metadata": {},
   "outputs": [],
   "source": [
    "x_3 = [1, 8, 15]\n",
    "A_3 = generateMatrix(x_3)\n",
    "y_3 = np.array(map(f, x_3))\n",
    "w_3 = scipy.linalg.solve(A_3, y_3)\n",
    "y_approx_3 = generateApproxVal(w_3, x)"
   ]
  },
  {
   "cell_type": "code",
   "execution_count": 136,
   "metadata": {},
   "outputs": [],
   "source": [
    "x_4 = [1, 4, 10, 15]\n",
    "A_4 = generateMatrix(x_4)\n",
    "y_4 = np.array(map(f, x_4))\n",
    "w_4 = scipy.linalg.solve(A_4, y_4)\n",
    "y_approx_4 = generateApproxVal(w_4, x)"
   ]
  },
  {
   "cell_type": "code",
   "execution_count": 137,
   "metadata": {},
   "outputs": [
    {
     "name": "stdout",
     "output_type": "stream",
     "text": [
      "[ 4.36264154 -1.29552587  0.19333685 -0.00823565]\n"
     ]
    }
   ],
   "source": [
    "print w_4"
   ]
  },
  {
   "cell_type": "code",
   "execution_count": 138,
   "metadata": {},
   "outputs": [
    {
     "data": {
      "text/plain": [
       "[<matplotlib.lines.Line2D at 0xd2307f0>]"
      ]
     },
     "execution_count": 138,
     "metadata": {},
     "output_type": "execute_result"
    },
    {
     "data": {
      "image/png": "[encoded data removed]",
      "text/plain": [
       "<Figure size 432x288 with 1 Axes>"
      ]
     },
     "metadata": {
      "needs_background": "light"
     },
     "output_type": "display_data"
    }
   ],
   "source": [
    "pyplot.plot(x, y)\n",
    "pyplot.plot(x, y_approx_2)\n",
    "pyplot.plot(x, y_approx_3)\n",
    "pyplot.plot(x, y_approx_4)"
   ]
  },
  {
   "cell_type": "code",
   "execution_count": 139,
   "metadata": {},
   "outputs": [],
   "source": [
    "with open('submission-2.txt', 'w') as outputFile:\n",
    "    outputFile.writelines(string + ' ' for string in map(str, map(lambda number: round(number, 2), w_4)))"
   ]
  }
 ],
 "metadata": {
  "kernelspec": {
   "display_name": "Python 2",
   "language": "python",
   "name": "python2"
  },
  "language_info": {
   "codemirror_mode": {
    "name": "ipython",
    "version": 2
   },
   "file_extension": ".py",
   "mimetype": "text/x-python",
   "name": "python",
   "nbconvert_exporter": "python",
   "pygments_lexer": "ipython2",
   "version": "2.7.16"
  }
 },
 "nbformat": 4,
 "nbformat_minor": 2
}
